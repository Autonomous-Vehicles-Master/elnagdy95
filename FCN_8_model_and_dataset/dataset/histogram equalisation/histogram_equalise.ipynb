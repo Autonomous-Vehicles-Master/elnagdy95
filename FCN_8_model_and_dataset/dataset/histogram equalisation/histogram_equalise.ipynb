{
 "cells": [
  {
   "cell_type": "code",
   "execution_count": 1,
   "metadata": {},
   "outputs": [
    {
     "data": {
      "text/plain": [
       "True"
      ]
     },
     "execution_count": 1,
     "metadata": {},
     "output_type": "execute_result"
    }
   ],
   "source": [
    "#import matplotlib\n",
    "import numpy as np\n",
    "import cv2\n",
    "\n",
    "im = cv2.imread(\"h_t_mask1.png\")\n",
    "\n",
    "\n",
    "#img = cv2.imread(\"path/to/Lenna.png\")\n",
    "\n",
    "img_y_cr_cb = cv2.cvtColor(im, cv2.COLOR_BGR2YCrCb)\n",
    "y, cr, cb = cv2.split(img_y_cr_cb)\n",
    "\n",
    "# Applying equalize Hist operation on Y channel.\n",
    "y_eq = cv2.equalizeHist(y)\n",
    "\n",
    "img_y_cr_cb_eq = cv2.merge((y_eq, cr, cb))\n",
    "img_rgb_eq = cv2.cvtColor(img_y_cr_cb_eq, cv2.COLOR_YCR_CB2BGR)\n",
    "\n",
    "\n",
    "cv2.imwrite('h_t_mask2.png',img_rgb_eq)"
   ]
  },
  {
   "cell_type": "code",
   "execution_count": 32,
   "metadata": {},
   "outputs": [
    {
     "ename": "SyntaxError",
     "evalue": "invalid syntax (<ipython-input-32-b63a07f2df71>, line 4)",
     "output_type": "error",
     "traceback": [
      "\u001b[1;36m  File \u001b[1;32m\"<ipython-input-32-b63a07f2df71>\"\u001b[1;36m, line \u001b[1;32m4\u001b[0m\n\u001b[1;33m    Mat equalizeIntensity(const Mat& inputImage)\u001b[0m\n\u001b[1;37m                        ^\u001b[0m\n\u001b[1;31mSyntaxError\u001b[0m\u001b[1;31m:\u001b[0m invalid syntax\n"
     ]
    }
   ],
   "source": [
    "import numpy as np\n",
    "import cv2\n",
    "\n",
    "Mat equalizeIntensity(const Mat& inputImage)\n",
    "{\n",
    "    if(inputImage.channels() >= 3)\n",
    "    {\n",
    "        Mat ycrcb;\n",
    "\n",
    "        cvtColor(inputImage,ycrcb,CV_BGR2YCrCb);\n",
    "\n",
    "        vector<Mat> channels;\n",
    "        split(ycrcb,channels);\n",
    "\n",
    "        equalizeHist(channels[0], channels[0]);\n",
    "\n",
    "        Mat result;\n",
    "        merge(channels,ycrcb);\n",
    "\n",
    "        cvtColor(ycrcb,result,CV_YCrCb2BGR);\n",
    "\n",
    "        return result;\n",
    "    }\n",
    "    return Mat();\n",
    "}\n"
   ]
  },
  {
   "cell_type": "code",
   "execution_count": null,
   "metadata": {},
   "outputs": [],
   "source": [
    "#backup source just in case somethng is messed\n",
    "#import matplotlib\n",
    "import numpy as np\n",
    "import cv2\n",
    "\n",
    "im = cv2.imread(\"000038.png\")\n",
    "\n",
    "\n",
    "#img = cv2.imread(\"path/to/Lenna.png\")\n",
    "\n",
    "img_y_cr_cb = cv2.cvtColor(im, cv2.COLOR_BGR2YCrCb)\n",
    "y, cr, cb = cv2.split(img_y_cr_cb)\n",
    "\n",
    "# Applying equalize Hist operation on Y channel.\n",
    "y_eq = cv2.equalizeHist(y)\n",
    "\n",
    "img_y_cr_cb_eq = cv2.merge((y_eq, cr, cb))\n",
    "img_rgb_eq = cv2.cvtColor(img_y_cr_cb_eq, cv2.COLOR_YCR_CB2BGR)\n",
    "\n",
    "\n",
    "cv2.imwrite('0000038.png',img_rgb_eq)"
   ]
  },
  {
   "cell_type": "code",
   "execution_count": 4,
   "metadata": {},
   "outputs": [
    {
     "data": {
      "text/plain": [
       "True"
      ]
     },
     "execution_count": 4,
     "metadata": {},
     "output_type": "execute_result"
    }
   ],
   "source": [
    "#import matplotlib\n",
    "import numpy as np\n",
    "import cv2\n",
    "\n",
    "im = cv2.imread(\"ht.png\")\n",
    "\n",
    "\n",
    "#img = cv2.imread(\"path/to/Lenna.png\")\n",
    "\n",
    "img_y_cr_cb = cv2.cvtColor(im, cv2.COLOR_BGR2YCrCb)\n",
    "y, cr, cb = cv2.split(img_y_cr_cb)\n",
    "\n",
    "# Applying equalize Hist operation on Y channel.\n",
    "#y_eq = cv2.equalizeHist(y)\n",
    "\n",
    "clahe = cv2.createCLAHE(clipLimit=2.0, tileGridSize=(8,8))\n",
    "y_eq = clahe.apply(y)\n",
    "\n",
    "img_y_cr_cb_eq = cv2.merge((y_eq, cr, cb))\n",
    "img_rgb_eq = cv2.cvtColor(img_y_cr_cb_eq, cv2.COLOR_YCR_CB2BGR)\n",
    "\n",
    "\n",
    "cv2.imwrite('h_t_mask3.png',img_rgb_eq)"
   ]
  },
  {
   "cell_type": "code",
   "execution_count": null,
   "metadata": {},
   "outputs": [],
   "source": []
  },
  {
   "cell_type": "code",
   "execution_count": null,
   "metadata": {},
   "outputs": [],
   "source": []
  }
 ],
 "metadata": {
  "kernelspec": {
   "display_name": "Python 3",
   "language": "python",
   "name": "python3"
  },
  "language_info": {
   "codemirror_mode": {
    "name": "ipython",
    "version": 3
   },
   "file_extension": ".py",
   "mimetype": "text/x-python",
   "name": "python",
   "nbconvert_exporter": "python",
   "pygments_lexer": "ipython3",
   "version": "3.7.6"
  }
 },
 "nbformat": 4,
 "nbformat_minor": 4
}
